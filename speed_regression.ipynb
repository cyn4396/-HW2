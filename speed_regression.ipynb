{
 "cells": [
  {
   "cell_type": "code",
   "execution_count": 2,
   "metadata": {
    "collapsed": true,
    "ExecuteTime": {
     "start_time": "2023-11-16T14:27:08.685715Z",
     "end_time": "2023-11-16T14:27:09.133735Z"
    }
   },
   "outputs": [],
   "source": [
    "import h5py\n",
    "import numpy as np\n",
    "import matplotlib.pyplot as plt\n",
    "from neuron_decoding import *\n",
    "import pickle\n",
    "\n",
    "folder='' #ENTER THE FOLDER THAT YOUR DATA IS IN\n",
    "# folder='/home/jglaser/Data/DecData/'\n",
    "\n",
    "with open(folder+'data_loco_20170302_02.pickle','rb') as f:\n",
    "    neural_data,pos_binned=pickle.load(f)"
   ]
  },
  {
   "cell_type": "code",
   "execution_count": 11,
   "outputs": [],
   "source": [
    "from sklearn.linear_model import LinearRegression\n",
    "from sklearn.metrics import r2_score\n",
    "\n",
    "def speed_lr(neural_data, pos_binned):\n",
    "    X=neural_data\n",
    "\n",
    "    temp = np.diff(pos_binned, axis=0)\n",
    "    vels_binned = np.concatenate((temp, temp[-1:, :]),axis=0)\n",
    "    y = vels_binned\n",
    "\n",
    "    lr = LinearRegression()\n",
    "    lr.fit(X,y)\n",
    "    y_pred = lr.predict(X)\n",
    "    r2 = r2_score(y,y_pred)\n",
    "    return r2"
   ],
   "metadata": {
    "collapsed": false,
    "ExecuteTime": {
     "start_time": "2023-11-16T15:01:21.212275Z",
     "end_time": "2023-11-16T15:01:21.216596Z"
    }
   }
  },
  {
   "cell_type": "code",
   "execution_count": 12,
   "outputs": [
    {
     "name": "stdout",
     "output_type": "stream",
     "text": [
      "0.2743638488109575\n"
     ]
    }
   ],
   "source": [
    "import os\n",
    "pn = 'data_binned'\n",
    "r2s = []\n",
    "for root, dirs, files in os.walk(pn):\n",
    "    for file in files:\n",
    "        if file.endswith('.pickle'):\n",
    "            pickle_file_path = os.path.join(root, file)\n",
    "            with open(pickle_file_path,'rb') as f:\n",
    "                neural_data,pos_binned=pickle.load(f)\n",
    "                r2 = speed_lr(neural_data,pos_binned)\n",
    "                r2s.append(r2)\n",
    "\n",
    "\n"
   ],
   "metadata": {
    "collapsed": false,
    "ExecuteTime": {
     "start_time": "2023-11-16T15:01:22.087142Z",
     "end_time": "2023-11-16T15:01:27.512705Z"
    }
   }
  },
  {
   "cell_type": "code",
   "execution_count": 13,
   "outputs": [
    {
     "name": "stdout",
     "output_type": "stream",
     "text": [
      "[0.42589066088460537, 0.4643818038180732, 0.39154487761770285, 0.36918363447963204, 0.46443138728379585, 0.3896087853987578, 0.25166580913322084, 0.33686906460876026, 0.467806062683537, 0.2743638488109575]\n"
     ]
    }
   ],
   "source": [
    "print(r2s)"
   ],
   "metadata": {
    "collapsed": false,
    "ExecuteTime": {
     "start_time": "2023-11-16T15:01:35.161122Z",
     "end_time": "2023-11-16T15:01:35.166699Z"
    }
   }
  },
  {
   "cell_type": "code",
   "execution_count": 22,
   "outputs": [
    {
     "name": "stdout",
     "output_type": "stream",
     "text": [
      "['213', '227', '215', '302', '301', '210', '214', '217', '228', '216']\n"
     ]
    }
   ],
   "source": [
    "date = []\n",
    "for root, dirs, files in os.walk(pn):\n",
    "    for file in files:\n",
    "        date.append(file[10:13])\n",
    "print(date)"
   ],
   "metadata": {
    "collapsed": false,
    "ExecuteTime": {
     "start_time": "2023-11-16T15:07:46.369500Z",
     "end_time": "2023-11-16T15:07:46.373085Z"
    }
   }
  },
  {
   "cell_type": "code",
   "execution_count": 23,
   "outputs": [
    {
     "data": {
      "text/plain": "<Figure size 640x480 with 1 Axes>",
      "image/png": "[encoded data removed]"
     },
     "metadata": {},
     "output_type": "display_data"
    }
   ],
   "source": [
    "import pandas as pd\n",
    "df = pd.DataFrame({\n",
    "    'date': date,\n",
    "    'r2': r2s\n",
    "})\n",
    "# 按日期排序\n",
    "df = df.sort_values('date')\n",
    "# 使用柱状图可视化数据\n",
    "plt.bar(df['date'], df['r2'])\n",
    "plt.xlabel('Date')\n",
    "plt.ylabel('R2')\n",
    "plt.title('R2 over Time')\n",
    "plt.show()"
   ],
   "metadata": {
    "collapsed": false,
    "ExecuteTime": {
     "start_time": "2023-11-16T15:07:49.806532Z",
     "end_time": "2023-11-16T15:07:49.872672Z"
    }
   }
  },
  {
   "cell_type": "code",
   "execution_count": null,
   "outputs": [],
   "source": [],
   "metadata": {
    "collapsed": false
   }
  }
 ],
 "metadata": {
  "kernelspec": {
   "display_name": "Python 3",
   "language": "python",
   "name": "python3"
  },
  "language_info": {
   "codemirror_mode": {
    "name": "ipython",
    "version": 2
   },
   "file_extension": ".py",
   "mimetype": "text/x-python",
   "name": "python",
   "nbconvert_exporter": "python",
   "pygments_lexer": "ipython2",
   "version": "2.7.6"
  }
 },
 "nbformat": 4,
 "nbformat_minor": 0
}
