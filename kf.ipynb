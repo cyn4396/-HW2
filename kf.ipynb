{
 "cells": [
  {
   "cell_type": "code",
   "execution_count": 101,
   "metadata": {
    "collapsed": true,
    "ExecuteTime": {
     "start_time": "2023-11-16T19:00:12.901154Z",
     "end_time": "2023-11-16T19:00:12.913535Z"
    }
   },
   "outputs": [],
   "source": [
    "import h5py\n",
    "import numpy as np\n",
    "import matplotlib.pyplot as plt\n",
    "from numpy.linalg import inv as inv\n",
    "from neuron_decoding import *\n",
    "import pickle\n",
    "from sklearn.metrics import r2_score\n",
    "\n",
    "\n",
    "fn = 'raw_data/loco_20170302_02.mat'\n",
    "# 加载.mat文件\n",
    "with h5py.File(fn, 'r') as file:\n",
    "    finger_pos = file['finger_pos'][:]\n",
    "    finger_pos = np.array(finger_pos).transpose()\n",
    "    cursor_pos = file['cursor_pos'][:]\n",
    "    cursor_pos = np.array(cursor_pos).transpose()\n",
    "    t = file['t'][:]\n",
    "    t = np.array(t).transpose()\n",
    "    print(finger_pos.shape)\n",
    "    print(t.shape)\n",
    "    spike_times = []\n",
    "    for column in file['spikes']:\n",
    "        column_data = []\n",
    "        for row_number in range(len(column)):\n",
    "            row_data = np.array(file[column[row_number]])\n",
    "            column_data.append(row_data)\n",
    "        spike_times.append(column_data)\n",
    "    spike_times = np.array(spike_times,dtype='object').transpose()\n",
    "    spike_times = spike_times[:,1:5]\n",
    "    print(spike_times.shape)\n",
    "    spike_times = spike_times.reshape(-1,1)\n",
    "    # spike_times = np.array([x for x in spike_times if len(x) >= 1000])\n",
    "    # print(spike_times.shape)\n",
    "\n",
    "    spike_times=np.squeeze(spike_times)\n",
    "    for i in range(spike_times.shape[0]):\n",
    "        spike_times[i]=np.squeeze(spike_times[i])\n",
    "    print(spike_times.shape)\n",
    "    spike_times = np.array([x for x in spike_times if x.size >= 1000],dtype='object')\n",
    "\n",
    "    print(spike_times.shape)\n"
   ]
  },
  {
   "cell_type": "code",
   "execution_count": 102,
   "outputs": [
    {
     "name": "stdout",
     "output_type": "stream",
     "text": [
      "(11416, 344)\n"
     ]
    }
   ],
   "source": [
    "dt=.04 #Size of time bins (in seconds)\n",
    "t_start=t[0] #Time to start extracting data - here the first time velocity was recorded\n",
    "t_end=t[-1] #Time to finish extracting data - here the last time velocity was recorded\n",
    "downsample_factor=1 #Downsampling of output (to make binning go faster). 1 means no downsampling.\n",
    "\n",
    "\n",
    "\n",
    "\n",
    "###Preprocessing to put spikes and output in bins###\n",
    "\n",
    "#Bin neural data using \"bin_spikes\" function\n",
    "neural_data=bin_spikes(spike_times,dt,t_start,t_end)\n",
    "\n",
    "#Bin output (velocity) data using \"bin_output\" function\n",
    "pos_binned=bin_output(cursor_pos,t,dt,t_start,t_end,downsample_factor)"
   ],
   "metadata": {
    "collapsed": false,
    "ExecuteTime": {
     "start_time": "2023-11-16T19:00:12.913260Z",
     "end_time": "2023-11-16T19:00:12.918499Z"
    }
   }
  },
  {
   "cell_type": "code",
   "execution_count": 103,
   "outputs": [],
   "source": [
    "data_folder='' #FOLDER YOU WANT TO SAVE THE DATA TO\n",
    "\n",
    "with open(data_folder+'data_loco_20170302_02.pickle','wb') as f:\n",
    "    pickle.dump([neural_data,pos_binned],f)"
   ],
   "metadata": {
    "collapsed": false,
    "ExecuteTime": {
     "start_time": "2023-11-16T19:00:12.915557Z",
     "end_time": "2023-11-16T19:00:12.928647Z"
    }
   }
  },
  {
   "cell_type": "code",
   "execution_count": 103,
   "outputs": [],
   "source": [
    "folder='' #ENTER THE FOLDER THAT YOUR DATA IS IN\n",
    "# folder='/home/jglaser/Data/DecData/'\n",
    "\n",
    "with open(folder+'data_loco_20170302_02.pickle','rb') as f:\n",
    "    neural_data,pos_binned=pickle.load(f)"
   ],
   "metadata": {
    "collapsed": false,
    "ExecuteTime": {
     "start_time": "2023-11-16T19:00:12.924522Z",
     "end_time": "2023-11-16T19:00:12.929220Z"
    }
   }
  },
  {
   "cell_type": "code",
   "execution_count": 104,
   "outputs": [],
   "source": [
    "lag=0\n",
    "\n",
    "X_kf=neural_data\n",
    "\n",
    "#For the Kalman filter, we use the position, velocity, and acceleration as outputs\n",
    "#Ultimately, we are only concerned with the goodness of fit of velocity (for this dataset)\n",
    "#But using them all as covariates helps performance\n",
    "\n",
    "#We will now determine vels\n",
    "temp = np.diff(pos_binned, axis=0)\n",
    "vels_binned = np.concatenate((temp, temp[-1:, :]),\n",
    "                            axis=0)\n",
    "\n",
    "#We will now determine acceleration\n",
    "temp = np.diff(vels_binned, axis=0)  #The acceleration is the difference in velocities across time bins\n",
    "acc_binned = np.concatenate((temp, temp[-1:, :]),\n",
    "                            axis=0)  #Assume acceleration at last time point is same as 2nd to last\n",
    "\n",
    "#The final output covariates include position, velocity, and acceleration\n",
    "y_kf = np.concatenate((pos_binned, vels_binned, acc_binned), axis=1)\n",
    "\n",
    "\n",
    "num_examples=X_kf.shape[0]\n",
    "\n",
    "#Re-align data to take lag into account\n",
    "if lag<0:\n",
    "    y_kf=y_kf[-lag:,:]\n",
    "    X_kf=X_kf[0:num_examples+lag,:]\n",
    "if lag>0:\n",
    "    y_kf=y_kf[0:num_examples-lag,:]\n",
    "    X_kf=X_kf[lag:num_examples,:]\n",
    "\n",
    "\n",
    "\n",
    "#Set what part of data should be part of the training/testing/validation sets\n",
    "training_range=[0, 0.7]\n",
    "testing_range=[0.7, 1]"
   ],
   "metadata": {
    "collapsed": false,
    "ExecuteTime": {
     "start_time": "2023-11-16T19:00:12.929009Z",
     "end_time": "2023-11-16T19:00:12.942045Z"
    }
   }
  },
  {
   "cell_type": "code",
   "execution_count": 105,
   "outputs": [
    {
     "name": "stdout",
     "output_type": "stream",
     "text": [
      "[0, 2]\n",
      "R2: [-0.159, 0.473]\n",
      "rho2: [0.125, 0.5]\n",
      "[2, 4]\n",
      "R2: [0.187, 0.366]\n",
      "rho2: [0.21, 0.37]\n",
      "[4, 6]\n",
      "R2: [0.018, 0.131]\n",
      "rho2: [0.043, 0.136]\n",
      "[0, 4]\n",
      "R2: [-0.029, 0.547, 0.232, 0.383]\n",
      "rho2: [0.251, 0.594, 0.252, 0.393]\n",
      "[0, 6]\n",
      "R2: [-0.099, 0.536, 0.233, 0.395, 0.021, 0.14]\n",
      "rho2: [0.225, 0.591, 0.257, 0.403, 0.062, 0.152]\n"
     ]
    }
   ],
   "source": [
    "## Split Data: For KF\n",
    "#Number of examples after taking into account bins removed for lag alignment\n",
    "num_examples_kf=X_kf.shape[0]\n",
    "\n",
    "#Note that each range has a buffer of 1 bin at the beginning and end\n",
    "#This makes it so that the different sets don't include overlapping data\n",
    "training_set=np.arange(np.int32(np.round(training_range[0]*num_examples_kf))+1,np.int32(np.round(training_range[1]*num_examples_kf))-1)\n",
    "testing_set=np.arange(np.int32(np.round(testing_range[0]*num_examples_kf))+1,np.int32(np.round(testing_range[1]*num_examples_kf))-1)\n",
    "\n",
    "\n",
    "#Get training data\n",
    "X_kf_train=X_kf[training_set,:]\n",
    "y_kf_train=y_kf[training_set,:]\n",
    "\n",
    "#Get testing data\n",
    "X_kf_test=X_kf[testing_set,:]\n",
    "y_kf_test=y_kf[testing_set,:]\n"
   ],
   "metadata": {
    "collapsed": false,
    "ExecuteTime": {
     "start_time": "2023-11-16T19:00:12.938136Z",
     "end_time": "2023-11-16T19:02:19.772424Z"
    }
   }
  },
  {
   "cell_type": "code",
   "execution_count": 110,
   "outputs": [
    {
     "name": "stdout",
     "output_type": "stream",
     "text": [
      "R2: [-0.099, 0.536, 0.233, 0.395, 0.021, 0.14]\n",
      "rho2: [0.225, 0.591, 0.257, 0.403, 0.062, 0.152]\n"
     ]
    },
    {
     "data": {
      "text/plain": "[<matplotlib.lines.Line2D at 0x2802231c0>]"
     },
     "execution_count": 110,
     "metadata": {},
     "output_type": "execute_result"
    },
    {
     "data": {
      "text/plain": "<Figure size 640x480 with 1 Axes>",
      "image/png": "[encoded data removed]"
     },
     "metadata": {},
     "output_type": "display_data"
    }
   ],
   "source": [
    "#Z-score inputs\n",
    "X_kf_train_mean=np.nanmean(X_kf_train,axis=0)\n",
    "X_kf_train_std=np.nanstd(X_kf_train,axis=0)\n",
    "X_kf_train=(X_kf_train-X_kf_train_mean)/X_kf_train_std\n",
    "X_kf_test=(X_kf_test-X_kf_train_mean)/X_kf_train_std\n",
    "\n",
    "\n",
    "#Zero-center outputs\n",
    "y_kf_train_mean=np.mean(y_kf_train,axis=0)\n",
    "y_kf_train=y_kf_train-y_kf_train_mean\n",
    "y_kf_test=y_kf_test-y_kf_train_mean\n"
   ],
   "metadata": {
    "collapsed": false,
    "ExecuteTime": {
     "start_time": "2023-11-16T19:03:14.197391Z",
     "end_time": "2023-11-16T19:03:47.166814Z"
    }
   }
  },
  {
   "cell_type": "code",
   "execution_count": 107,
   "outputs": [],
   "source": [
    "from sklearn.metrics import r2_score\n",
    "#Declare model\n",
    "model_kf=KalmanFilterRegression(C=2) #There is one optional parameter that is set to the default in this example (see ReadMe)\n",
    "\n",
    "#Fit model\\\n",
    "model_kf.fit(X_kf_train,y_kf_train)\n",
    "\n",
    "#Get predictions\n",
    "y_test_predicted_kf=model_kf.predict(X_kf_test,y_kf_test)\n"
   ],
   "metadata": {
    "collapsed": false,
    "ExecuteTime": {
     "start_time": "2023-11-16T19:02:46.635569Z",
     "end_time": "2023-11-16T19:02:47.758846Z"
    }
   }
  },
  {
   "cell_type": "code",
   "execution_count": 108,
   "outputs": [
    {
     "name": "stdout",
     "output_type": "stream",
     "text": [
      "[0.007, 0.275, 0.192, 0.35, 0.019, 0.13]\n",
      "rho2: [0.085, 0.309, 0.197, 0.351, 0.043, 0.134]\n"
     ]
    }
   ],
   "source": [
    "print(y_test_predicted_kf.shape)"
   ],
   "metadata": {
    "collapsed": false,
    "ExecuteTime": {
     "start_time": "2023-11-16T19:02:47.764149Z",
     "end_time": "2023-11-16T19:02:47.771028Z"
    }
   }
  },
  {
   "cell_type": "code",
   "execution_count": 109,
   "outputs": [
    {
     "name": "stdout",
     "output_type": "stream",
     "text": [
      "(7989, 344)\n",
      "(3423, 6)\n"
     ]
    }
   ],
   "source": [
    "\n",
    "#Get metrics of fit (see read me for more details on the differences between metrics)\n",
    "#First I'll get the R^2\n",
    "R2_kf=[r2_score(y_kf_test[:,i],y_test_predicted_kf[:,i]) for i in range(6)]\n",
    "print('R2:',R2_kf[0:6]) #I'm just printing the R^2's of the 3rd and 4th entries that correspond to the velocities\n",
    "#Next I'll get the rho^2 (the pearson correlation squared)\n",
    "rho_kf=get_rho(y_kf_test,y_test_predicted_kf)\n",
    "print('rho2:',rho_kf[0:6]**2) #I'm just printing the rho^2's of the 3rd and 4th entries that correspond to the velocities"
   ],
   "metadata": {
    "collapsed": false,
    "ExecuteTime": {
     "start_time": "2023-11-16T19:02:47.787625Z",
     "end_time": "2023-11-16T19:02:47.811636Z"
    }
   }
  },
  {
   "cell_type": "code",
   "execution_count": 111,
   "outputs": [
    {
     "name": "stdout",
     "output_type": "stream",
     "text": [
      "(3423, 6)\n"
     ]
    }
   ],
   "source": [
    "fig_x_kf=plt.figure()\n",
    "i = 3\n",
    "plt.plot(y_kf_test[1000:2000,i]+y_kf_train_mean[i],'b')\n",
    "plt.plot(y_test_predicted_kf[1000:2000,i]+y_kf_train_mean[i],'r')"
   ],
   "metadata": {
    "collapsed": false,
    "ExecuteTime": {
     "start_time": "2023-11-16T19:03:47.167978Z",
     "end_time": "2023-11-16T19:03:47.245232Z"
    }
   }
  },
  {
   "cell_type": "code",
   "execution_count": 2,
   "outputs": [
    {
     "ename": "NotFoundError",
     "evalue": "dlopen(/Library/Frameworks/Python.framework/Versions/3.10/lib/python3.10/site-packages/tensorflow-plugins/libmetal_plugin.dylib, 0x0006): symbol not found in flat namespace '__ZN10tensorflow8internal10LogMessage16VmoduleActivatedEPKci'",
     "output_type": "error",
     "traceback": [
      "\u001B[0;31m---------------------------------------------------------------------------\u001B[0m",
      "\u001B[0;31mNotFoundError\u001B[0m                             Traceback (most recent call last)",
      "Cell \u001B[0;32mIn[2], line 1\u001B[0m\n\u001B[0;32m----> 1\u001B[0m \u001B[38;5;28;01mfrom\u001B[39;00m \u001B[38;5;21;01mtensorflow\u001B[39;00m \u001B[38;5;28;01mimport\u001B[39;00m keras\n",
      "File \u001B[0;32m/Library/Frameworks/Python.framework/Versions/3.10/lib/python3.10/site-packages/tensorflow/__init__.py:455\u001B[0m\n\u001B[1;32m    453\u001B[0m _plugin_dir \u001B[38;5;241m=\u001B[39m _os\u001B[38;5;241m.\u001B[39mpath\u001B[38;5;241m.\u001B[39mjoin(_s, \u001B[38;5;124m\"\u001B[39m\u001B[38;5;124mtensorflow-plugins\u001B[39m\u001B[38;5;124m\"\u001B[39m)\n\u001B[1;32m    454\u001B[0m \u001B[38;5;28;01mif\u001B[39;00m _os\u001B[38;5;241m.\u001B[39mpath\u001B[38;5;241m.\u001B[39mexists(_plugin_dir):\n\u001B[0;32m--> 455\u001B[0m   \u001B[43m_ll\u001B[49m\u001B[38;5;241;43m.\u001B[39;49m\u001B[43mload_library\u001B[49m\u001B[43m(\u001B[49m\u001B[43m_plugin_dir\u001B[49m\u001B[43m)\u001B[49m\n\u001B[1;32m    456\u001B[0m   \u001B[38;5;66;03m# Load Pluggable Device Library\u001B[39;00m\n\u001B[1;32m    457\u001B[0m   _ll\u001B[38;5;241m.\u001B[39mload_pluggable_device_library(_plugin_dir)\n",
      "File \u001B[0;32m/Library/Frameworks/Python.framework/Versions/3.10/lib/python3.10/site-packages/tensorflow/python/framework/load_library.py:151\u001B[0m, in \u001B[0;36mload_library\u001B[0;34m(library_location)\u001B[0m\n\u001B[1;32m    148\u001B[0m     kernel_libraries \u001B[38;5;241m=\u001B[39m [library_location]\n\u001B[1;32m    150\u001B[0m   \u001B[38;5;28;01mfor\u001B[39;00m lib \u001B[38;5;129;01min\u001B[39;00m kernel_libraries:\n\u001B[0;32m--> 151\u001B[0m     \u001B[43mpy_tf\u001B[49m\u001B[38;5;241;43m.\u001B[39;49m\u001B[43mTF_LoadLibrary\u001B[49m\u001B[43m(\u001B[49m\u001B[43mlib\u001B[49m\u001B[43m)\u001B[49m\n\u001B[1;32m    153\u001B[0m \u001B[38;5;28;01melse\u001B[39;00m:\n\u001B[1;32m    154\u001B[0m   \u001B[38;5;28;01mraise\u001B[39;00m \u001B[38;5;167;01mOSError\u001B[39;00m(\n\u001B[1;32m    155\u001B[0m       errno\u001B[38;5;241m.\u001B[39mENOENT,\n\u001B[1;32m    156\u001B[0m       \u001B[38;5;124m'\u001B[39m\u001B[38;5;124mThe file or folder to load kernel libraries from does not exist.\u001B[39m\u001B[38;5;124m'\u001B[39m,\n\u001B[1;32m    157\u001B[0m       library_location)\n",
      "\u001B[0;31mNotFoundError\u001B[0m: dlopen(/Library/Frameworks/Python.framework/Versions/3.10/lib/python3.10/site-packages/tensorflow-plugins/libmetal_plugin.dylib, 0x0006): symbol not found in flat namespace '__ZN10tensorflow8internal10LogMessage16VmoduleActivatedEPKci'"
     ]
    }
   ],
   "source": [
    "from tensorflow import keras\n"
   ],
   "metadata": {
    "collapsed": false
   }
  },
  {
   "cell_type": "code",
   "execution_count": null,
   "outputs": [],
   "source": [],
   "metadata": {
    "collapsed": false
   }
  }
 ],
 "metadata": {
  "kernelspec": {
   "display_name": "Python 3",
   "language": "python",
   "name": "python3"
  },
  "language_info": {
   "codemirror_mode": {
    "name": "ipython",
    "version": 2
   },
   "file_extension": ".py",
   "mimetype": "text/x-python",
   "name": "python",
   "nbconvert_exporter": "python",
   "pygments_lexer": "ipython2",
   "version": "2.7.6"
  }
 },
 "nbformat": 4,
 "nbformat_minor": 0
}
